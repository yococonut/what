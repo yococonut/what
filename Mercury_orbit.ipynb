{
 "cells": [
  {
   "cell_type": "code",
   "execution_count": null,
   "metadata": {},
   "outputs": [],
   "source": [
    "from vpython import vector, sphere, color, curve, rate\n",
    "from vpython import *\n",
    "# Definition of parameters\n",
    "rM0 = 4.60 # Initial radius of Mercury orbit, in units of R0\n",
    "vM0 = 5.10e-1 # Initial orbital speed of Mercury, in units of R0/T0\n",
    "c_a = 9.90e-1 # Base acceleration of Mercury, in units of R0**3/T0**2\n",
    "TM = 8.80e+1 # Orbit period of Mercury\n",
    "rS = 2.95e-7 # Schwarzschild radius of Sun,in units of R0\n",
    "rL2 = 8.19e-7 # Specific angular momentum, in units of R0**2\n",
    "\n",
    "# Initialize distance and velocity vectors\n",
    "vec_rM0 = vector(0, rM0, 0)\n",
    "vec_vM0 = vector(vM0, 0, 0)\n",
    "\n",
    "# Define the initial coordinates; M = Mercury, S = Sun\n",
    "M = sphere(pos=vec_rM0, radius=0.5, color=color.red, make_trail=True )\n",
    "S = sphere(pos=vector(0,0,0), radius=1.5, color=color.yellow, make_trail=True)\n",
    "# And the initial velocities\n",
    "\n",
    "M.velocity = vec_vM0\n",
    "S.velocity = vector(0,0,0)\n",
    "# Add a visible trajectory to Mercury\n",
    "M.trajectory = curve(color=color.white)\n",
    "\n",
    "# Definition of the time step\n",
    "dt = 2 * vM0 / c_a / 20\n",
    "\n",
    "# Define the coordinate and velocity update function\n",
    "def evolve_mercury(vec_rM_old, vec_vM_old, alpha, beta):\n",
    "    # Compute the strength of the acceleration\n",
    "    temp = 1 + alpha * rS / vec_rM_old.mag + beta * rL2 / vec_rM_old.mag**2\n",
    "    aMS = c_a * temp / vec_rM_old.mag**2\n",
    "    # Multiply by the direction\n",
    "    vec_aMS = - aMS * ( vec_rM_old / vec_rM_old.mag )\n",
    "    # Update velocity vector\n",
    "    vec_vM_new = vec_vM_old + vec_aMS * dt\n",
    "    # Update position vector\n",
    "    vec_rM_new = vec_rM_old + vec_vM_new * dt\n",
    "    return vec_rM_new, vec_vM_new;\n",
    "# Call the function\n",
    "\n",
    "t = 0.0\n",
    "alpha = 1000000.0\n",
    "beta = 0.0\n",
    "# Set position and velocity to their starting points\n",
    "vec_rM = vec_rM0\n",
    "vec_vM = vec_vM0\n",
    "# Execute the loop as long as t < 2*TM\n",
    "while t < 10*TM:\n",
    "# Set the frame rate (you can choose a higher rate to accelerate the program)\n",
    "    rate(100)\n",
    "    # Update the drawn trajectory with the current position\n",
    "    M.trajectory.append(pos=M.pos)\n",
    "    # Update velocity and position\n",
    "    M.pos, M.velocity = evolve_mercury(M.pos , M.velocity , alpha, beta)\n",
    "    # Advance time by one step\n",
    "    t = t + dt\n"
   ]
  },
  {
   "cell_type": "code",
   "execution_count": null,
   "metadata": {},
   "outputs": [],
   "source": []
  }
 ],
 "metadata": {
  "kernelspec": {
   "display_name": "Python 3",
   "language": "python",
   "name": "python3"
  },
  "language_info": {
   "codemirror_mode": {
    "name": "ipython",
    "version": 3
   },
   "file_extension": ".py",
   "mimetype": "text/x-python",
   "name": "python",
   "nbconvert_exporter": "python",
   "pygments_lexer": "ipython3",
   "version": "3.7.1"
  }
 },
 "nbformat": 4,
 "nbformat_minor": 2
}
